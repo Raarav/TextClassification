{
 "cells": [
  {
   "cell_type": "code",
   "execution_count": 1,
   "metadata": {},
   "outputs": [],
   "source": [
    "import nltk"
   ]
  },
  {
   "cell_type": "code",
   "execution_count": 2,
   "metadata": {},
   "outputs": [
    {
     "name": "stdout",
     "output_type": "stream",
     "text": [
      "python:3.6.7 |Anaconda, Inc.| (default, Dec 10 2018, 20:35:02) [MSC v.1915 64 bit (AMD64)]\n",
      "nltk:3.4\n",
      "sklearn:0.20.3\n"
     ]
    }
   ],
   "source": [
    "import sys\n",
    "import sklearn\n",
    "\n",
    "print('python:{}'.format(sys.version))\n",
    "print('nltk:{}'.format(nltk.__version__))\n",
    "print('sklearn:{}'.format(sklearn.__version__))"
   ]
  },
  {
   "cell_type": "code",
   "execution_count": 3,
   "metadata": {},
   "outputs": [
    {
     "name": "stdout",
     "output_type": "stream",
     "text": [
      "showing info https://raw.githubusercontent.com/nltk/nltk_data/gh-pages/index.xml\n"
     ]
    },
    {
     "data": {
      "text/plain": [
       "True"
      ]
     },
     "execution_count": 3,
     "metadata": {},
     "output_type": "execute_result"
    }
   ],
   "source": [
    "nltk.download()"
   ]
  },
  {
   "cell_type": "markdown",
   "metadata": {},
   "source": [
    "## Corpus-\n",
    "Body of text, singular.Corpora is the plural of this. Example :A collection of medical journals.\n",
    "\n",
    "### Lexicon-\n",
    "words and their meanings. Example: English dictionay.COnsider,However that various fields will have different lexicons\n",
    "\n",
    "### Token-\n",
    "Each \"entity\" that is a part whatever was split up based on rules. for exaples, each world is a token when stentence is tokenized into words."
   ]
  },
  {
   "cell_type": "code",
   "execution_count": 24,
   "metadata": {},
   "outputs": [
    {
     "name": "stdout",
     "output_type": "stream",
     "text": [
      "['hello jupyter lab.', 'Now, i am learning text classification online mode.it is conducted by udemy.']\n"
     ]
    }
   ],
   "source": [
    "from nltk.tokenize import sent_tokenize, word_tokenize\n",
    "text=\"hello jupyter lab. Now, i am learning text classification online mode.it is conducted by udemy.\"\n",
    "print(sent_tokenize(text))"
   ]
  },
  {
   "cell_type": "code",
   "execution_count": 25,
   "metadata": {},
   "outputs": [
    {
     "name": "stdout",
     "output_type": "stream",
     "text": [
      "['hello', 'jupyter', 'lab', '.', 'Now', ',', 'i', 'am', 'learning', 'text', 'classification', 'online', 'mode.it', 'is', 'conducted', 'by', 'udemy', '.']\n"
     ]
    }
   ],
   "source": [
    "print(word_tokenize(text))"
   ]
  },
  {
   "cell_type": "code",
   "execution_count": 14,
   "metadata": {},
   "outputs": [],
   "source": [
    "#removing stop word which is useless data\n",
    "from nltk.corpus import stopwords"
   ]
  },
  {
   "cell_type": "code",
   "execution_count": 18,
   "metadata": {},
   "outputs": [
    {
     "name": "stdout",
     "output_type": "stream",
     "text": [
      "{\"isn't\", 'do', 'its', 'herself', 'all', 'hasn', 'no', 'them', \"shan't\", 'are', 'my', \"wouldn't\", 'down', 'only', 'haven', 'her', \"that'll\", 'what', 'won', 'we', 'theirs', 'then', 'so', 'don', 'd', \"wasn't\", 'ain', 'mustn', \"it's\", 'me', 'has', 'being', 'ourselves', 'after', 'now', 'few', 'wouldn', 'over', 'both', 'themselves', \"hasn't\", \"you'd\", 'under', \"haven't\", 'nor', 'y', 'where', 'in', 'ma', 'before', 'itself', 'own', 'had', 'isn', 'whom', 'some', 'most', \"needn't\", 'further', 'll', \"didn't\", 'very', 'or', 'shan', \"doesn't\", 'there', 'aren', 'you', 'these', 'on', 'our', 'will', \"you've\", 'such', 'shouldn', 'about', 'and', 'those', 'of', 'during', 're', 'yourself', 'be', 'other', \"won't\", 'for', 'their', 'was', 'to', \"hadn't\", 'each', 'yourselves', 'once', \"don't\", 'your', 'having', 'doesn', 'up', 'into', 'is', 'if', \"shouldn't\", 'did', 'i', 'a', 'by', 's', 'hers', 'should', 'again', 've', 'not', 'his', 'too', 'that', \"she's\", 'the', 'but', 'she', 'couldn', 't', 'does', 'didn', \"mustn't\", 'this', 'who', 'needn', 'at', 'from', 'myself', 'which', 'out', \"mightn't\", 'how', 'him', 'o', 'been', \"should've\", 'more', 'yours', \"couldn't\", 'between', 'have', \"you'll\", 'same', 'until', 'it', \"you're\", 'off', 'doing', 'can', 'here', 'mightn', 'weren', 'any', \"aren't\", 'with', 'below', 'm', 'himself', 'an', 'because', 'above', \"weren't\", 'ours', 'he', 'while', 'they', 'against', 'were', 'why', 'than', 'am', 'as', 'wasn', 'hadn', 'when', 'through', 'just'}\n"
     ]
    }
   ],
   "source": [
    "print(set(stopwords.words('english')))"
   ]
  },
  {
   "cell_type": "code",
   "execution_count": 36,
   "metadata": {},
   "outputs": [
    {
     "name": "stdout",
     "output_type": "stream",
     "text": [
      "['this', 'is', 'some', 'example', 'test', ',', 'showing', 'off', 'the', 'words', 'filtration', '.']\n",
      "['example', 'test', ',', 'showing', 'words', 'filtration', '.']\n",
      "['example', 'test', ',', 'showing', 'words', 'filtration', '.']\n"
     ]
    }
   ],
   "source": [
    "example=\"this is some example test, showing off the words filtration.\"\n",
    "\n",
    "stop_words = set(stopwords.words('english'))\n",
    "\n",
    "word_tokens = word_tokenize(example)\n",
    "\n",
    "sentence = [w for w in word_tokens if not w in stop_words] ### inline method\n",
    "\n",
    "filtered_sentence =[]\n",
    "\n",
    "for w in word_tokens:\n",
    "    if w not in stop_words:\n",
    "        filtered_sentence.append(w)\n",
    "        \n",
    "\n",
    "print(word_tokens)\n",
    "print(sentence)\n",
    "print(filtered_sentence)"
   ]
  },
  {
   "cell_type": "markdown",
   "metadata": {},
   "source": [
    "### stemming words with NLTK"
   ]
  },
  {
   "cell_type": "code",
   "execution_count": 40,
   "metadata": {},
   "outputs": [
    {
     "name": "stdout",
     "output_type": "stream",
     "text": [
      "ride\n",
      "ride\n",
      "rider\n",
      "ride\n"
     ]
    }
   ],
   "source": [
    "from nltk.stem import PorterStemmer\n",
    "\n",
    "ps = PorterStemmer()\n",
    "\n",
    "example_words=['ride','riding','rider','rides']\n",
    "\n",
    "for w in example_words:\n",
    "    print(ps.stem(w))"
   ]
  },
  {
   "cell_type": "code",
   "execution_count": 41,
   "metadata": {},
   "outputs": [
    {
     "name": "stdout",
     "output_type": "stream",
     "text": [
      "when\n",
      "rider\n",
      "are\n",
      "ride\n",
      "their\n",
      "hors\n",
      ",\n",
      "they\n",
      "often\n",
      "think\n",
      "of\n",
      "how\n",
      "cowboy\n",
      "rode\n",
      "hors\n"
     ]
    }
   ],
   "source": [
    "new_text = 'when riders are riding their horses, they often think of how  cowboys rode horses'\n",
    "\n",
    "words = word_tokenize(new_text)\n",
    "\n",
    "for w in words:\n",
    "    print(ps.stem(w))"
   ]
  },
  {
   "cell_type": "code",
   "execution_count": null,
   "metadata": {},
   "outputs": [],
   "source": []
  }
 ],
 "metadata": {
  "kernelspec": {
   "display_name": "Python 3",
   "language": "python",
   "name": "python3"
  },
  "language_info": {
   "codemirror_mode": {
    "name": "ipython",
    "version": 3
   },
   "file_extension": ".py",
   "mimetype": "text/x-python",
   "name": "python",
   "nbconvert_exporter": "python",
   "pygments_lexer": "ipython3",
   "version": "3.6.7"
  }
 },
 "nbformat": 4,
 "nbformat_minor": 2
}
